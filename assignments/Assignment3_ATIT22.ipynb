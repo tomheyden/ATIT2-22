{
  "nbformat": 4,
  "nbformat_minor": 0,
  "metadata": {
    "colab": {
      "provenance": []
    },
    "kernelspec": {
      "name": "python3",
      "display_name": "Python 3"
    }
  },
  "cells": [
    {
      "cell_type": "markdown",
      "metadata": {
        "id": "8S14s9ADHS9w"
      },
      "source": [
        "# Assignment 3 (Part 1)\n",
        "\n",
        "Part 1 of the third assignment is worth 25 points.\n",
        "\n",
        "## Neural Networks\n",
        "\n",
        "Also known as Multi-Layer-Perceptrons (MLP). Hence for this assignment you will use the MLPClassifier class from Sklearn. \n",
        "\n",
        "Take a look at the documentation to learn more about the default parameterisation (which activation function it uses, which optimizer/solver it uses, number and size of hidden layers, etc.) of the MLPClassifer: \n",
        "\n",
        "https://scikit-learn.org/stable/modules/generated/sklearn.neural_network.MLPClassifier.html. \n",
        "\n",
        "\n",
        "This parctical part of the assignment is devided in 2 main tasks:\n",
        "\n",
        "\n",
        "*   Training a neural network on MNIST data (3 points)\n",
        "*   Training a neural networks on customer data (22 points)\n",
        "\n",
        "\n",
        "\n",
        "\n",
        "\n"
      ]
    },
    {
      "cell_type": "markdown",
      "metadata": {
        "id": "rFFVKTWQJeWd"
      },
      "source": [
        "### Task 1: Neural Network Classifier on MNIST "
      ]
    },
    {
      "cell_type": "code",
      "metadata": {
        "id": "GzWI6gk3JdEI"
      },
      "source": [
        "# load required libraries\n",
        "from sklearn.datasets import fetch_openml\n",
        "from sklearn.preprocessing import MinMaxScaler\n",
        "from sklearn.model_selection import train_test_split\n",
        "from sklearn.neural_network import MLPClassifier\n",
        "from sklearn.metrics import accuracy_score, confusion_matrix\n",
        "import pandas as pd\n",
        "import numpy as np\n",
        "import matplotlib.pyplot as plt\n",
        "from sklearn.metrics import classification_report"
      ],
      "execution_count": 106,
      "outputs": []
    },
    {
      "cell_type": "markdown",
      "metadata": {
        "id": "DM8DvF5fJ5Np"
      },
      "source": [
        "The task will be to perform classification on handwritten digits from 0 to 9 (MNIST dataset). (We've seen this dataset in the previous assignment)"
      ]
    },
    {
      "cell_type": "code",
      "metadata": {
        "id": "ChOOL3YeJqto"
      },
      "source": [
        "# download dataset from https://www.openml.org/ which contains many sample datasets for machine learning\n",
        "X, y = fetch_openml('mnist_784', version=1, return_X_y=True)"
      ],
      "execution_count": 107,
      "outputs": []
    },
    {
      "cell_type": "markdown",
      "metadata": {
        "id": "3cuKVOZmJuAM"
      },
      "source": [
        "**Recap**: The dataset contains 70000 examples of which each example has 784 values (pixels). These pixels are in a flat array but represent a 28 by 28 pixel gray-scale image. Values range from 0 to 255 which is common in the RGB value range. A value of 0 represents a black pixel whereas 255 represents a white pixel. Different shades of gray are any value larger than 0 but smaller than 255."
      ]
    },
    {
      "cell_type": "code",
      "metadata": {
        "id": "UbIjxFuxO56N",
        "colab": {
          "base_uri": "https://localhost:8080/",
          "height": 512
        },
        "outputId": "3938a785-55ea-4790-dff7-0139bfbc4dd5"
      },
      "source": [
        "# if we want to plot a single example we need to reshape the array\n",
        "first_image = np.array(X[0:1], dtype='float').reshape((28, 28))\n",
        "plt.imshow(first_image, cmap='gray')"
      ],
      "execution_count": 108,
      "outputs": [
        {
          "output_type": "execute_result",
          "data": {
            "text/plain": [
              "<matplotlib.image.AxesImage at 0x7f21e8822df0>"
            ]
          },
          "metadata": {},
          "execution_count": 108
        },
        {
          "output_type": "display_data",
          "data": {
            "text/plain": [
              "<Figure size 576x720 with 1 Axes>"
            ],
            "image/png": "[encoded data removed]"
          },
          "metadata": {
            "needs_background": "light"
          }
        }
      ]
    },
    {
      "cell_type": "markdown",
      "metadata": {
        "id": "6B9x73V-HTQV"
      },
      "source": [
        "#### Instructions\n",
        "\n",
        "**You are expected to do:**\n",
        "\n",
        "\n",
        "*   Data preparation: \n",
        " *   Perform a 80/20 train/test split\n",
        " *   Perform feature scaling\n",
        "*   Train the model\n",
        " *   Please use `MLPClassifier` from `sklearn.neural_network`\n",
        "*   Evaluate the model performance\n",
        " *   Calculate the accuracy\n",
        " *   Plot the confusion matrix\n",
        " *   Additionally, plot some misclassified instances  (if there are any). You can use the plt.imshow() function as shown above\n",
        "* Compare the model performance with the results of the softmax regression on MNIST in the previous assignment\n",
        "\n"
      ]
    },
    {
      "cell_type": "code",
      "metadata": {
        "id": "qD_mQ_OPLFmP",
        "colab": {
          "base_uri": "https://localhost:8080/"
        },
        "outputId": "26dfd88e-c6dd-443c-d86e-5a4e56361f9d"
      },
      "source": [
        "x_train, x_test, y_train, y_test = train_test_split(X, y, test_size = 0.2, random_state = 100)\n",
        "x_train.shape, x_test.shape"
      ],
      "execution_count": 109,
      "outputs": [
        {
          "output_type": "execute_result",
          "data": {
            "text/plain": [
              "((56000, 784), (14000, 784))"
            ]
          },
          "metadata": {},
          "execution_count": 109
        }
      ]
    },
    {
      "cell_type": "code",
      "metadata": {
        "id": "DdFSHAlcLFbu"
      },
      "source": [
        "scaler = MinMaxScaler()\n",
        "\n",
        "x_train_scaled = scaler.fit_transform(x_train)\n",
        "x_test_scaled = scaler.transform(x_test)"
      ],
      "execution_count": 110,
      "outputs": []
    },
    {
      "cell_type": "code",
      "metadata": {
        "id": "vMuxvInJLFTZ",
        "colab": {
          "base_uri": "https://localhost:8080/"
        },
        "outputId": "1c914a29-36ab-48f6-9fb2-f3ac59c9823e"
      },
      "source": [
        "classifier = MLPClassifier()\n",
        "classifier.fit(x_train_scaled, y_train)"
      ],
      "execution_count": 111,
      "outputs": [
        {
          "output_type": "execute_result",
          "data": {
            "text/plain": [
              "MLPClassifier()"
            ]
          },
          "metadata": {},
          "execution_count": 111
        }
      ]
    },
    {
      "cell_type": "code",
      "source": [
        "predictions = classifier.predict(x_test_scaled)\n",
        "predictions.shape"
      ],
      "metadata": {
        "colab": {
          "base_uri": "https://localhost:8080/"
        },
        "id": "wyhM2PbbI1p1",
        "outputId": "12d64d2c-1d61-4d93-d909-a12d2e8cb54c"
      },
      "execution_count": 112,
      "outputs": [
        {
          "output_type": "execute_result",
          "data": {
            "text/plain": [
              "(14000,)"
            ]
          },
          "metadata": {},
          "execution_count": 112
        }
      ]
    },
    {
      "cell_type": "code",
      "source": [
        "score = classifier.score(x_test_scaled, y_test)\n",
        "score"
      ],
      "metadata": {
        "colab": {
          "base_uri": "https://localhost:8080/"
        },
        "id": "F6MDnOZOI5jm",
        "outputId": "4ca06fcd-82e8-4f3f-acf7-e8f408399c61"
      },
      "execution_count": 113,
      "outputs": [
        {
          "output_type": "execute_result",
          "data": {
            "text/plain": [
              "0.9785714285714285"
            ]
          },
          "metadata": {},
          "execution_count": 113
        }
      ]
    },
    {
      "cell_type": "code",
      "source": [
        "print(classification_report(y_test,predictions))"
      ],
      "metadata": {
        "id": "xYZ3ic9dXUJu",
        "outputId": "ecaddd9f-9f86-4f25-df14-3a111c6bfb86",
        "colab": {
          "base_uri": "https://localhost:8080/"
        }
      },
      "execution_count": 114,
      "outputs": [
        {
          "output_type": "stream",
          "name": "stdout",
          "text": [
            "              precision    recall  f1-score   support\n",
            "\n",
            "           0       0.98      0.99      0.99      1356\n",
            "           1       0.99      0.99      0.99      1587\n",
            "           2       0.98      0.97      0.98      1420\n",
            "           3       0.98      0.97      0.97      1492\n",
            "           4       0.98      0.97      0.98      1390\n",
            "           5       0.96      0.98      0.97      1239\n",
            "           6       0.98      0.98      0.98      1373\n",
            "           7       0.98      0.98      0.98      1412\n",
            "           8       0.97      0.97      0.97      1323\n",
            "           9       0.97      0.97      0.97      1408\n",
            "\n",
            "    accuracy                           0.98     14000\n",
            "   macro avg       0.98      0.98      0.98     14000\n",
            "weighted avg       0.98      0.98      0.98     14000\n",
            "\n"
          ]
        }
      ]
    },
    {
      "cell_type": "code",
      "source": [
        "conf_matrix = confusion_matrix(y_true=y_test, y_pred=predictions)\n",
        "\n",
        "# Print the confusion matrix using Matplotlib\n",
        "\n",
        "fig, ax = plt.subplots(figsize=(7.5, 7.5))\n",
        "ax.matshow(conf_matrix, cmap=plt.cm.Blues, alpha=0.3)\n",
        "for i in range(conf_matrix.shape[0]):\n",
        "    for j in range(conf_matrix.shape[1]):\n",
        "        ax.text(x=j, y=i,s=conf_matrix[i, j], va='center', ha='center', size='xx-large')\n",
        " \n",
        "plt.xlabel('Predictions', fontsize=18)\n",
        "plt.ylabel('Actuals', fontsize=18)\n",
        "plt.title('Confusion Matrix', fontsize=18)\n",
        "plt.show()\n"
      ],
      "metadata": {
        "colab": {
          "base_uri": "https://localhost:8080/",
          "height": 501
        },
        "id": "3EJg7pAjI72B",
        "outputId": "062be3d5-440d-47b5-9f53-2ffb70bead04"
      },
      "execution_count": 9,
      "outputs": [
        {
          "output_type": "display_data",
          "data": {
            "text/plain": [
              "<Figure size 540x540 with 1 Axes>"
            ],
            "image/png": "[encoded data removed]"
          },
          "metadata": {
            "needs_background": "light"
          }
        }
      ]
    },
    {
      "cell_type": "markdown",
      "source": [
        "**Comparision to the result of the Softmax Regression**\n",
        "\n",
        "- This model has a better accuracy with 98% than the Softmax Regression with 92%\n",
        "- This model has a better recall with 98% than the Softmax Regression with 92%\n",
        "..."
      ],
      "metadata": {
        "id": "b4xeM4TyWEdF"
      }
    },
    {
      "cell_type": "markdown",
      "source": [
        "**Misclassified instances**"
      ],
      "metadata": {
        "id": "4TBKpDOYpriP"
      }
    },
    {
      "cell_type": "code",
      "source": [
        "f, axes = plt.subplots(1, 10, sharey=True,figsize=(20,20))\n",
        "misclassified = np.where(y_test!= predictions)[0]\n",
        "\n",
        "for i,ax in enumerate(axes.flat):\n",
        "\n",
        "    ax.axis('off')\n",
        "\n",
        "    ax.imshow(np.array(X[(misclassified[i]-1):(misclassified[i])], dtype='float').reshape((28, 28)), cmap='gray')\n"
      ],
      "metadata": {
        "colab": {
          "base_uri": "https://localhost:8080/",
          "height": 125
        },
        "id": "kS5WGX8YprE7",
        "outputId": "8ce56d84-c8b4-446f-c33b-7317d67e9468"
      },
      "execution_count": 10,
      "outputs": [
        {
          "output_type": "display_data",
          "data": {
            "text/plain": [
              "<Figure size 1440x1440 with 10 Axes>"
            ],
            "image/png": "[encoded data removed]"
          },
          "metadata": {
            "needs_background": "light"
          }
        }
      ]
    },
    {
      "cell_type": "markdown",
      "metadata": {
        "id": "2ODadjEdHTVE"
      },
      "source": [
        "### Task 2: neural network classifier\n"
      ]
    },
    {
      "cell_type": "code",
      "metadata": {
        "id": "7Aoa13hkLTvC"
      },
      "source": [
        "# load required libraries\n",
        "from sklearn.preprocessing import MinMaxScaler, LabelEncoder\n",
        "from sklearn.model_selection import train_test_split\n",
        "from sklearn.neural_network import MLPClassifier\n",
        "from sklearn.metrics import accuracy_score\n",
        "import pandas as pd\n",
        "import numpy as np\n",
        "import seaborn as sns\n",
        "import matplotlib.pyplot as plt\n",
        "from imblearn.over_sampling import RandomOverSampler \n",
        "from sklearn.metrics import classification_report"
      ],
      "execution_count": 14,
      "outputs": []
    },
    {
      "cell_type": "markdown",
      "metadata": {
        "id": "pll7ms5wYPHg"
      },
      "source": [
        "#### Dataset \n",
        "\n",
        "This is a classic marketing bank dataset uploaded originally in the UCI Machine Learning Repository and contains >41k records. You can find more information about the features (attributes) on the official UCI website:\n",
        "https://archive.ics.uci.edu/ml/datasets/bank+marketing\n",
        "\n",
        "The dataset gives you information about a marketing campaign of a financial institution in which can be analysed in order to find ways to look for future strategies in order to improve future marketing campaigns for the bank.\n",
        "\n",
        "The target variable is called 'deposit' which describes if a person has subscribed to a term deposit (German: \"Termineinlage\", more information: https://www.investopedia.com/terms/t/termdeposit.asp).\n",
        "\n",
        "---\n",
        "\n",
        "Your task will be to train a neural network which will be used to predict if a person will subscribe to a term deposit."
      ]
    },
    {
      "cell_type": "code",
      "metadata": {
        "id": "rFlMKv4VLUCL",
        "colab": {
          "base_uri": "https://localhost:8080/"
        },
        "outputId": "ca56e5c8-799e-4df4-f610-1c2f1f4cca79"
      },
      "source": [
        "# Import the data\n",
        "data = pd.read_csv('https://raw.githubusercontent.com/schneiderson/ATIT2-22/main/sample_data/bank.csv')\n",
        "#X = data.iloc[:, :-1]\n",
        "#y = data.iloc[:, -1]\n",
        "\n",
        "X = data.copy()\n",
        "print(X.shape)"
      ],
      "execution_count": 70,
      "outputs": [
        {
          "output_type": "stream",
          "name": "stdout",
          "text": [
            "(11162, 17)\n"
          ]
        }
      ]
    },
    {
      "cell_type": "markdown",
      "metadata": {
        "id": "aFT2cB4FUFdq"
      },
      "source": [
        "#### Instructions\n",
        "\n",
        "This task will combine a lot of different aspect of what we have discussed in class over the past weeks.\n",
        "\n",
        "**You are expected to do:**\n",
        "\n",
        "*   **Data exploration** (6 points):\n",
        " *   Check which features are available. \n",
        " > *   Can some features directly be discarded?\n",
        " *   Check if data is messy (e.g. missing values)\n",
        " *   Check for correlation with target variable\n",
        " *   Look for outliers\n",
        " *   Class distribution\n",
        "*   **Data preparation** (6 points):\n",
        " *   Perform some data cleaning e.g.\n",
        "  >  *   Replace missing values\n",
        "  >  *   Outlier handling\n",
        "  >  *   Removal of duplicates\n",
        " *   Convert non-numeric features to numeric features\n",
        " *   Perform a 80/20 train/test split\n",
        " *   Perform feature scaling\n",
        " *   In case of class imbalance, think about how you want to deal with it. Please briefly explain your decision.\n",
        "*   **Training and model evaluation** (10 points):\n",
        " *   Please use `MLPClassifier` from `sklearn.neural_network`\n",
        " > *   The model should have 4 hidden layers with sizes hidden_layer_size=(10, 1) (parameter hidden_layer_sizes)\n",
        " > *   Set the batch_size to 64\n",
        " *   Evaluate the model performance\n",
        " > *   Calculate the accuracy and other metrics which might be helpful to evaluate the model's performance\n",
        " > *   Based on you findings, describe some measures you could take to improve the model's performance even further.\n",
        " > *   Try to analyse if you see indications of underfitting or overfitting and which countermeasures you could take.\n",
        " *   Please train another model using one of the techniques we have discussed in the lectures and compare the performance to the performance achieved with the neural network.\n",
        "\n",
        "\n",
        "**For each decision you make, briefly explain your reasoning.**\n",
        "\n"
      ]
    },
    {
      "cell_type": "markdown",
      "source": [
        "**Data exploration (6 points):**"
      ],
      "metadata": {
        "id": "-JU60ssSJf5K"
      }
    },
    {
      "cell_type": "code",
      "metadata": {
        "id": "dgao6g05XJmg",
        "colab": {
          "base_uri": "https://localhost:8080/"
        },
        "outputId": "5bb2af4b-15f9-477c-b574-e74552c54da5"
      },
      "source": [
        "#Data exploration\n",
        "print(X)"
      ],
      "execution_count": 71,
      "outputs": [
        {
          "output_type": "stream",
          "name": "stdout",
          "text": [
            "       age          job  marital  education default  balance housing loan  \\\n",
            "0       59       admin.  married  secondary      no     2343     yes   no   \n",
            "1       56       admin.  married  secondary      no       45      no   no   \n",
            "2       41   technician  married  secondary      no     1270     yes   no   \n",
            "3       55     services  married  secondary      no     2476     yes   no   \n",
            "4       54       admin.  married   tertiary      no      184      no   no   \n",
            "...    ...          ...      ...        ...     ...      ...     ...  ...   \n",
            "11157   33  blue-collar   single    primary      no        1     yes   no   \n",
            "11158   39     services  married  secondary      no      733      no   no   \n",
            "11159   32   technician   single  secondary      no       29      no   no   \n",
            "11160   43   technician  married  secondary      no        0      no  yes   \n",
            "11161   34   technician  married  secondary      no        0      no   no   \n",
            "\n",
            "        contact  day month  duration  campaign  pdays  previous poutcome  \\\n",
            "0       unknown    5   may      1042         1     -1         0  unknown   \n",
            "1       unknown    5   may      1467         1     -1         0  unknown   \n",
            "2       unknown    5   may      1389         1     -1         0  unknown   \n",
            "3       unknown    5   may       579         1     -1         0  unknown   \n",
            "4       unknown    5   may       673         2     -1         0  unknown   \n",
            "...         ...  ...   ...       ...       ...    ...       ...      ...   \n",
            "11157  cellular   20   apr       257         1     -1         0  unknown   \n",
            "11158   unknown   16   jun        83         4     -1         0  unknown   \n",
            "11159  cellular   19   aug       156         2     -1         0  unknown   \n",
            "11160  cellular    8   may         9         2    172         5  failure   \n",
            "11161  cellular    9   jul       628         1     -1         0  unknown   \n",
            "\n",
            "      deposit  \n",
            "0         yes  \n",
            "1         yes  \n",
            "2         yes  \n",
            "3         yes  \n",
            "4         yes  \n",
            "...       ...  \n",
            "11157      no  \n",
            "11158      no  \n",
            "11159      no  \n",
            "11160      no  \n",
            "11161      no  \n",
            "\n",
            "[11162 rows x 17 columns]\n"
          ]
        }
      ]
    },
    {
      "cell_type": "code",
      "source": [
        "#Data exploration\n",
        "X.describe"
      ],
      "metadata": {
        "colab": {
          "base_uri": "https://localhost:8080/"
        },
        "id": "RJe_aAomo8KZ",
        "outputId": "d89739c2-6460-4e23-8e3e-bb7076973fb4"
      },
      "execution_count": 72,
      "outputs": [
        {
          "output_type": "execute_result",
          "data": {
            "text/plain": [
              "<bound method NDFrame.describe of        age          job  marital  education default  balance housing loan  \\\n",
              "0       59       admin.  married  secondary      no     2343     yes   no   \n",
              "1       56       admin.  married  secondary      no       45      no   no   \n",
              "2       41   technician  married  secondary      no     1270     yes   no   \n",
              "3       55     services  married  secondary      no     2476     yes   no   \n",
              "4       54       admin.  married   tertiary      no      184      no   no   \n",
              "...    ...          ...      ...        ...     ...      ...     ...  ...   \n",
              "11157   33  blue-collar   single    primary      no        1     yes   no   \n",
              "11158   39     services  married  secondary      no      733      no   no   \n",
              "11159   32   technician   single  secondary      no       29      no   no   \n",
              "11160   43   technician  married  secondary      no        0      no  yes   \n",
              "11161   34   technician  married  secondary      no        0      no   no   \n",
              "\n",
              "        contact  day month  duration  campaign  pdays  previous poutcome  \\\n",
              "0       unknown    5   may      1042         1     -1         0  unknown   \n",
              "1       unknown    5   may      1467         1     -1         0  unknown   \n",
              "2       unknown    5   may      1389         1     -1         0  unknown   \n",
              "3       unknown    5   may       579         1     -1         0  unknown   \n",
              "4       unknown    5   may       673         2     -1         0  unknown   \n",
              "...         ...  ...   ...       ...       ...    ...       ...      ...   \n",
              "11157  cellular   20   apr       257         1     -1         0  unknown   \n",
              "11158   unknown   16   jun        83         4     -1         0  unknown   \n",
              "11159  cellular   19   aug       156         2     -1         0  unknown   \n",
              "11160  cellular    8   may         9         2    172         5  failure   \n",
              "11161  cellular    9   jul       628         1     -1         0  unknown   \n",
              "\n",
              "      deposit  \n",
              "0         yes  \n",
              "1         yes  \n",
              "2         yes  \n",
              "3         yes  \n",
              "4         yes  \n",
              "...       ...  \n",
              "11157      no  \n",
              "11158      no  \n",
              "11159      no  \n",
              "11160      no  \n",
              "11161      no  \n",
              "\n",
              "[11162 rows x 17 columns]>"
            ]
          },
          "metadata": {},
          "execution_count": 72
        }
      ]
    },
    {
      "cell_type": "markdown",
      "source": [
        "**Data preparation (6 points):**"
      ],
      "metadata": {
        "id": "_fopUXfeKm-u"
      }
    },
    {
      "cell_type": "code",
      "source": [
        "# Data exploration - drop duration\n",
        "X = X.drop(['duration'], axis = 1)"
      ],
      "metadata": {
        "id": "yIHeDFQ1pWoz"
      },
      "execution_count": 73,
      "outputs": []
    },
    {
      "cell_type": "code",
      "metadata": {
        "id": "KyhMjW5NhBrE",
        "colab": {
          "base_uri": "https://localhost:8080/"
        },
        "outputId": "b7bb0fff-e7c6-4368-f85d-8baa200e746a"
      },
      "source": [
        "#Data exploration - check for missing values \n",
        "X.isnull().sum() "
      ],
      "execution_count": 74,
      "outputs": [
        {
          "output_type": "execute_result",
          "data": {
            "text/plain": [
              "age          0\n",
              "job          0\n",
              "marital      0\n",
              "education    0\n",
              "default      0\n",
              "balance      0\n",
              "housing      0\n",
              "loan         0\n",
              "contact      0\n",
              "day          0\n",
              "month        0\n",
              "campaign     0\n",
              "pdays        0\n",
              "previous     0\n",
              "poutcome     0\n",
              "deposit      0\n",
              "dtype: int64"
            ]
          },
          "metadata": {},
          "execution_count": 74
        }
      ]
    },
    {
      "cell_type": "markdown",
      "source": [
        "--> all are zero values , so we dont have any *NaN* values in this data set"
      ],
      "metadata": {
        "id": "DJRZ28_dCKsE"
      }
    },
    {
      "cell_type": "code",
      "source": [
        "#data exploration - unknown values \n",
        "\n",
        "print(X['contact'].value_counts()['unknown'])\n",
        "print(X['poutcome'].value_counts()['unknown'])\n",
        "print(X['default'].value_counts()['no'])\n",
        "print(X['pdays'].value_counts()[-1])\n",
        "print(X['previous'].value_counts()[0])\n",
        "print(X['campaign'].value_counts()[1])\n",
        "print(X['contact'].value_counts()['unknown'])"
      ],
      "metadata": {
        "id": "Ci-I70SmGnD1",
        "outputId": "62de9a77-31da-45d7-8ccb-f604fc7544db",
        "colab": {
          "base_uri": "https://localhost:8080/"
        }
      },
      "execution_count": 75,
      "outputs": [
        {
          "output_type": "stream",
          "name": "stdout",
          "text": [
            "2346\n",
            "8326\n",
            "10994\n",
            "8324\n",
            "8324\n",
            "4798\n",
            "2346\n"
          ]
        }
      ]
    },
    {
      "cell_type": "code",
      "source": [
        "plt.rcParams[\"figure.figsize\"] = (24, 8)\n",
        "sns.heatmap(X.corr(),annot=True);"
      ],
      "metadata": {
        "colab": {
          "base_uri": "https://localhost:8080/",
          "height": 487
        },
        "id": "MSLOrrGOxzAf",
        "outputId": "9fbb6388-1210-4e0d-d08e-e81077023ce5"
      },
      "execution_count": 76,
      "outputs": [
        {
          "output_type": "display_data",
          "data": {
            "text/plain": [
              "<Figure size 1728x576 with 2 Axes>"
            ],
            "image/png": "[encoded data removed]"
          },
          "metadata": {
            "needs_background": "light"
          }
        }
      ]
    },
    {
      "cell_type": "markdown",
      "source": [
        "We decide to drop the feature \"poutcome\" because the majority of the values are declared \"unknown\".\n",
        "\n",
        "We decide to change the values of the column \"pdays\" because of the high amount of -1 values. Now the column only contains 0 and 1 values regarding whether or not a customer has been previously contacted or not. The duration is not significant any more\n",
        "\n",
        "We decide to drop the feature \"previous\" because it contains similar data like the \"pdays\" column and which is interesting for the model to predict the outcome --> I already transformed this column\n"
      ],
      "metadata": {
        "id": "ZbuOdbROJqow"
      }
    },
    {
      "cell_type": "code",
      "source": [
        "defaultnew = [1]\n",
        "\n",
        "for values in X['pdays']:\n",
        "  if values == -1:\n",
        "    defaultnew.append(0)\n",
        "  else:\n",
        "    defaultnew.append(1)\n",
        "del defaultnew[0]\n",
        "\n",
        "#add new colunm to dataset\n",
        "X['pdays'] = defaultnew\n",
        "\n",
        "#data preperation - drop\n",
        "X = X.drop(['poutcome'], axis = 1)\n",
        "X = X.drop(['previous'], axis = 1)"
      ],
      "metadata": {
        "id": "kVnDsyf3LpV1"
      },
      "execution_count": 77,
      "outputs": []
    },
    {
      "cell_type": "code",
      "source": [
        "print(X)\n",
        "print(X['pdays'].value_counts()[1])"
      ],
      "metadata": {
        "id": "fOioN4CNHvl8",
        "outputId": "250caabe-beac-41a4-c2fc-796895686b10",
        "colab": {
          "base_uri": "https://localhost:8080/"
        }
      },
      "execution_count": 78,
      "outputs": [
        {
          "output_type": "stream",
          "name": "stdout",
          "text": [
            "       age          job  marital  education default  balance housing loan  \\\n",
            "0       59       admin.  married  secondary      no     2343     yes   no   \n",
            "1       56       admin.  married  secondary      no       45      no   no   \n",
            "2       41   technician  married  secondary      no     1270     yes   no   \n",
            "3       55     services  married  secondary      no     2476     yes   no   \n",
            "4       54       admin.  married   tertiary      no      184      no   no   \n",
            "...    ...          ...      ...        ...     ...      ...     ...  ...   \n",
            "11157   33  blue-collar   single    primary      no        1     yes   no   \n",
            "11158   39     services  married  secondary      no      733      no   no   \n",
            "11159   32   technician   single  secondary      no       29      no   no   \n",
            "11160   43   technician  married  secondary      no        0      no  yes   \n",
            "11161   34   technician  married  secondary      no        0      no   no   \n",
            "\n",
            "        contact  day month  campaign  pdays deposit  \n",
            "0       unknown    5   may         1      0     yes  \n",
            "1       unknown    5   may         1      0     yes  \n",
            "2       unknown    5   may         1      0     yes  \n",
            "3       unknown    5   may         1      0     yes  \n",
            "4       unknown    5   may         2      0     yes  \n",
            "...         ...  ...   ...       ...    ...     ...  \n",
            "11157  cellular   20   apr         1      0      no  \n",
            "11158   unknown   16   jun         4      0      no  \n",
            "11159  cellular   19   aug         2      0      no  \n",
            "11160  cellular    8   may         2      1      no  \n",
            "11161  cellular    9   jul         1      0      no  \n",
            "\n",
            "[11162 rows x 14 columns]\n",
            "2838\n"
          ]
        }
      ]
    },
    {
      "cell_type": "code",
      "metadata": {
        "id": "6autb4mKIBat",
        "colab": {
          "base_uri": "https://localhost:8080/"
        },
        "outputId": "e5136849-954e-4f0b-a9f2-ba226c986cf0"
      },
      "source": [
        "#Data exploration\n",
        "print(X.duplicated().value_counts()) # To check duplicated values"
      ],
      "execution_count": 79,
      "outputs": [
        {
          "output_type": "stream",
          "name": "stdout",
          "text": [
            "False    11161\n",
            "True         1\n",
            "dtype: int64\n"
          ]
        }
      ]
    },
    {
      "cell_type": "code",
      "source": [
        "#Data preperation - handling duplicates\n",
        "X = X.drop_duplicates()"
      ],
      "metadata": {
        "id": "btXYOV1ctGw7"
      },
      "execution_count": 80,
      "outputs": []
    },
    {
      "cell_type": "code",
      "source": [
        "# Data preperation\n",
        "\n",
        "lencoder = LabelEncoder()\n",
        "cols = ['job', 'marital', 'education', 'default','housing', 'loan','contact', 'month','deposit']\n",
        "X[cols] = X[cols].apply(LabelEncoder().fit_transform)\n",
        "\n",
        "X.head()"
      ],
      "metadata": {
        "id": "1z_NUmBwFVdv",
        "outputId": "272eb545-9bfa-44cb-a682-5ff9d5a2d18c",
        "colab": {
          "base_uri": "https://localhost:8080/",
          "height": 313
        }
      },
      "execution_count": 81,
      "outputs": [
        {
          "output_type": "stream",
          "name": "stderr",
          "text": [
            "/usr/local/lib/python3.8/dist-packages/pandas/core/frame.py:3641: SettingWithCopyWarning: \n",
            "A value is trying to be set on a copy of a slice from a DataFrame.\n",
            "Try using .loc[row_indexer,col_indexer] = value instead\n",
            "\n",
            "See the caveats in the documentation: https://pandas.pydata.org/pandas-docs/stable/user_guide/indexing.html#returning-a-view-versus-a-copy\n",
            "  self[k1] = value[k2]\n"
          ]
        },
        {
          "output_type": "execute_result",
          "data": {
            "text/plain": [
              "   age  job  marital  education  default  balance  housing  loan  contact  \\\n",
              "0   59    0        1          1        0     2343        1     0        2   \n",
              "1   56    0        1          1        0       45        0     0        2   \n",
              "2   41    9        1          1        0     1270        1     0        2   \n",
              "3   55    7        1          1        0     2476        1     0        2   \n",
              "4   54    0        1          2        0      184        0     0        2   \n",
              "\n",
              "   day  month  campaign  pdays  deposit  \n",
              "0    5      8         1      0        1  \n",
              "1    5      8         1      0        1  \n",
              "2    5      8         1      0        1  \n",
              "3    5      8         1      0        1  \n",
              "4    5      8         2      0        1  "
            ],
            "text/html": [
              "\n",
              "  <div id=\"df-4abc4793-053c-4896-aea2-c096c7032418\">\n",
              "    <div class=\"colab-df-container\">\n",
              "      <div>\n",
              "<style scoped>\n",
              "    .dataframe tbody tr th:only-of-type {\n",
              "        vertical-align: middle;\n",
              "    }\n",
              "\n",
              "    .dataframe tbody tr th {\n",
              "        vertical-align: top;\n",
              "    }\n",
              "\n",
              "    .dataframe thead th {\n",
              "        text-align: right;\n",
              "    }\n",
              "</style>\n",
              "<table border=\"1\" class=\"dataframe\">\n",
              "  <thead>\n",
              "    <tr style=\"text-align: right;\">\n",
              "      <th></th>\n",
              "      <th>age</th>\n",
              "      <th>job</th>\n",
              "      <th>marital</th>\n",
              "      <th>education</th>\n",
              "      <th>default</th>\n",
              "      <th>balance</th>\n",
              "      <th>housing</th>\n",
              "      <th>loan</th>\n",
              "      <th>contact</th>\n",
              "      <th>day</th>\n",
              "      <th>month</th>\n",
              "      <th>campaign</th>\n",
              "      <th>pdays</th>\n",
              "      <th>deposit</th>\n",
              "    </tr>\n",
              "  </thead>\n",
              "  <tbody>\n",
              "    <tr>\n",
              "      <th>0</th>\n",
              "      <td>59</td>\n",
              "      <td>0</td>\n",
              "      <td>1</td>\n",
              "      <td>1</td>\n",
              "      <td>0</td>\n",
              "      <td>2343</td>\n",
              "      <td>1</td>\n",
              "      <td>0</td>\n",
              "      <td>2</td>\n",
              "      <td>5</td>\n",
              "      <td>8</td>\n",
              "      <td>1</td>\n",
              "      <td>0</td>\n",
              "      <td>1</td>\n",
              "    </tr>\n",
              "    <tr>\n",
              "      <th>1</th>\n",
              "      <td>56</td>\n",
              "      <td>0</td>\n",
              "      <td>1</td>\n",
              "      <td>1</td>\n",
              "      <td>0</td>\n",
              "      <td>45</td>\n",
              "      <td>0</td>\n",
              "      <td>0</td>\n",
              "      <td>2</td>\n",
              "      <td>5</td>\n",
              "      <td>8</td>\n",
              "      <td>1</td>\n",
              "      <td>0</td>\n",
              "      <td>1</td>\n",
              "    </tr>\n",
              "    <tr>\n",
              "      <th>2</th>\n",
              "      <td>41</td>\n",
              "      <td>9</td>\n",
              "      <td>1</td>\n",
              "      <td>1</td>\n",
              "      <td>0</td>\n",
              "      <td>1270</td>\n",
              "      <td>1</td>\n",
              "      <td>0</td>\n",
              "      <td>2</td>\n",
              "      <td>5</td>\n",
              "      <td>8</td>\n",
              "      <td>1</td>\n",
              "      <td>0</td>\n",
              "      <td>1</td>\n",
              "    </tr>\n",
              "    <tr>\n",
              "      <th>3</th>\n",
              "      <td>55</td>\n",
              "      <td>7</td>\n",
              "      <td>1</td>\n",
              "      <td>1</td>\n",
              "      <td>0</td>\n",
              "      <td>2476</td>\n",
              "      <td>1</td>\n",
              "      <td>0</td>\n",
              "      <td>2</td>\n",
              "      <td>5</td>\n",
              "      <td>8</td>\n",
              "      <td>1</td>\n",
              "      <td>0</td>\n",
              "      <td>1</td>\n",
              "    </tr>\n",
              "    <tr>\n",
              "      <th>4</th>\n",
              "      <td>54</td>\n",
              "      <td>0</td>\n",
              "      <td>1</td>\n",
              "      <td>2</td>\n",
              "      <td>0</td>\n",
              "      <td>184</td>\n",
              "      <td>0</td>\n",
              "      <td>0</td>\n",
              "      <td>2</td>\n",
              "      <td>5</td>\n",
              "      <td>8</td>\n",
              "      <td>2</td>\n",
              "      <td>0</td>\n",
              "      <td>1</td>\n",
              "    </tr>\n",
              "  </tbody>\n",
              "</table>\n",
              "</div>\n",
              "      <button class=\"colab-df-convert\" onclick=\"convertToInteractive('df-4abc4793-053c-4896-aea2-c096c7032418')\"\n",
              "              title=\"Convert this dataframe to an interactive table.\"\n",
              "              style=\"display:none;\">\n",
              "        \n",
              "  <svg xmlns=\"http://www.w3.org/2000/svg\" height=\"24px\"viewBox=\"0 0 24 24\"\n",
              "       width=\"24px\">\n",
              "    <path d=\"M0 0h24v24H0V0z\" fill=\"none\"/>\n",
              "    <path d=\"M18.56 5.44l.94 2.06.94-2.06 2.06-.94-2.06-.94-.94-2.06-.94 2.06-2.06.94zm-11 1L8.5 8.5l.94-2.06 2.06-.94-2.06-.94L8.5 2.5l-.94 2.06-2.06.94zm10 10l.94 2.06.94-2.06 2.06-.94-2.06-.94-.94-2.06-.94 2.06-2.06.94z\"/><path d=\"M17.41 7.96l-1.37-1.37c-.4-.4-.92-.59-1.43-.59-.52 0-1.04.2-1.43.59L10.3 9.45l-7.72 7.72c-.78.78-.78 2.05 0 2.83L4 21.41c.39.39.9.59 1.41.59.51 0 1.02-.2 1.41-.59l7.78-7.78 2.81-2.81c.8-.78.8-2.07 0-2.86zM5.41 20L4 18.59l7.72-7.72 1.47 1.35L5.41 20z\"/>\n",
              "  </svg>\n",
              "      </button>\n",
              "      \n",
              "  <style>\n",
              "    .colab-df-container {\n",
              "      display:flex;\n",
              "      flex-wrap:wrap;\n",
              "      gap: 12px;\n",
              "    }\n",
              "\n",
              "    .colab-df-convert {\n",
              "      background-color: #E8F0FE;\n",
              "      border: none;\n",
              "      border-radius: 50%;\n",
              "      cursor: pointer;\n",
              "      display: none;\n",
              "      fill: #1967D2;\n",
              "      height: 32px;\n",
              "      padding: 0 0 0 0;\n",
              "      width: 32px;\n",
              "    }\n",
              "\n",
              "    .colab-df-convert:hover {\n",
              "      background-color: #E2EBFA;\n",
              "      box-shadow: 0px 1px 2px rgba(60, 64, 67, 0.3), 0px 1px 3px 1px rgba(60, 64, 67, 0.15);\n",
              "      fill: #174EA6;\n",
              "    }\n",
              "\n",
              "    [theme=dark] .colab-df-convert {\n",
              "      background-color: #3B4455;\n",
              "      fill: #D2E3FC;\n",
              "    }\n",
              "\n",
              "    [theme=dark] .colab-df-convert:hover {\n",
              "      background-color: #434B5C;\n",
              "      box-shadow: 0px 1px 3px 1px rgba(0, 0, 0, 0.15);\n",
              "      filter: drop-shadow(0px 1px 2px rgba(0, 0, 0, 0.3));\n",
              "      fill: #FFFFFF;\n",
              "    }\n",
              "  </style>\n",
              "\n",
              "      <script>\n",
              "        const buttonEl =\n",
              "          document.querySelector('#df-4abc4793-053c-4896-aea2-c096c7032418 button.colab-df-convert');\n",
              "        buttonEl.style.display =\n",
              "          google.colab.kernel.accessAllowed ? 'block' : 'none';\n",
              "\n",
              "        async function convertToInteractive(key) {\n",
              "          const element = document.querySelector('#df-4abc4793-053c-4896-aea2-c096c7032418');\n",
              "          const dataTable =\n",
              "            await google.colab.kernel.invokeFunction('convertToInteractive',\n",
              "                                                     [key], {});\n",
              "          if (!dataTable) return;\n",
              "\n",
              "          const docLinkHtml = 'Like what you see? Visit the ' +\n",
              "            '<a target=\"_blank\" href=https://colab.research.google.com/notebooks/data_table.ipynb>data table notebook</a>'\n",
              "            + ' to learn more about interactive tables.';\n",
              "          element.innerHTML = '';\n",
              "          dataTable['output_type'] = 'display_data';\n",
              "          await google.colab.output.renderOutput(dataTable, element);\n",
              "          const docLink = document.createElement('div');\n",
              "          docLink.innerHTML = docLinkHtml;\n",
              "          element.appendChild(docLink);\n",
              "        }\n",
              "      </script>\n",
              "    </div>\n",
              "  </div>\n",
              "  "
            ]
          },
          "metadata": {},
          "execution_count": 81
        }
      ]
    },
    {
      "cell_type": "code",
      "source": [
        "#Data exploration - check for correlation\n",
        "\n",
        "plt.rcParams[\"figure.figsize\"] = (24, 8)\n",
        "sns.heatmap(X.corr(),annot=True);"
      ],
      "metadata": {
        "id": "k_am3BgU5ZLu",
        "outputId": "343765c1-607d-4377-a726-f2d3c13662c4",
        "colab": {
          "base_uri": "https://localhost:8080/",
          "height": 487
        }
      },
      "execution_count": 82,
      "outputs": [
        {
          "output_type": "display_data",
          "data": {
            "text/plain": [
              "<Figure size 1728x576 with 2 Axes>"
            ],
            "image/png": "[encoded data removed]"
          },
          "metadata": {
            "needs_background": "light"
          }
        }
      ]
    },
    {
      "cell_type": "markdown",
      "metadata": {
        "id": "tGqo9JdzIi0Y"
      },
      "source": [
        "---"
      ]
    },
    {
      "cell_type": "code",
      "source": [
        "#Data exploration - looking for class imbalance \n",
        "\n",
        "import seaborn as sns\n",
        "plt.rcParams[\"figure.figsize\"] = (10, 8)\n",
        "X['deposit'].value_counts()\n",
        "sns.countplot(x='deposit', data=X)\n",
        "plt.show()"
      ],
      "metadata": {
        "colab": {
          "base_uri": "https://localhost:8080/",
          "height": 497
        },
        "id": "plxn6VOzqA3z",
        "outputId": "7ffaa1a4-f1fd-4495-e2cd-942fd4b85431"
      },
      "execution_count": 83,
      "outputs": [
        {
          "output_type": "display_data",
          "data": {
            "text/plain": [
              "<Figure size 720x576 with 1 Axes>"
            ],
            "image/png": "[encoded data removed]"
          },
          "metadata": {
            "needs_background": "light"
          }
        }
      ]
    },
    {
      "cell_type": "markdown",
      "source": [
        "--> we need oversampling "
      ],
      "metadata": {
        "id": "FG6hoGJkqkmf"
      }
    },
    {
      "cell_type": "code",
      "source": [
        "#Data exploration - Detect outliers using Boxplot\n",
        "columnsplot = X.columns\n",
        "print(columnsplot)\n",
        "columnsplot = columnsplot.drop('balance')\n",
        "df = pd.DataFrame(X, columns = columnsplot)\n",
        "df.boxplot(vert=False)"
      ],
      "metadata": {
        "id": "4I-LePB-_qLe",
        "outputId": "9034f0ab-3b42-4eab-f101-d8c53725bc97",
        "colab": {
          "base_uri": "https://localhost:8080/",
          "height": 554
        }
      },
      "execution_count": 84,
      "outputs": [
        {
          "output_type": "stream",
          "name": "stdout",
          "text": [
            "Index(['age', 'job', 'marital', 'education', 'default', 'balance', 'housing',\n",
            "       'loan', 'contact', 'day', 'month', 'campaign', 'pdays', 'deposit'],\n",
            "      dtype='object')\n"
          ]
        },
        {
          "output_type": "execute_result",
          "data": {
            "text/plain": [
              "<matplotlib.axes._subplots.AxesSubplot at 0x7f21ec7dc610>"
            ]
          },
          "metadata": {},
          "execution_count": 84
        },
        {
          "output_type": "display_data",
          "data": {
            "text/plain": [
              "<Figure size 720x576 with 1 Axes>"
            ],
            "image/png": "[encoded data removed]"
          },
          "metadata": {
            "needs_background": "light"
          }
        }
      ]
    },
    {
      "cell_type": "code",
      "source": [
        "plt.rcParams[\"figure.figsize\"] = (22, 3)\n",
        "temp_df = pd.DataFrame(X, columns=['campaign'])\n",
        "temp_df.boxplot(vert=False)"
      ],
      "metadata": {
        "id": "ND-hUQpCBiJL",
        "outputId": "d9dfb96b-1f58-440b-ee10-61e3303476a8",
        "colab": {
          "base_uri": "https://localhost:8080/",
          "height": 229
        }
      },
      "execution_count": 85,
      "outputs": [
        {
          "output_type": "execute_result",
          "data": {
            "text/plain": [
              "<matplotlib.axes._subplots.AxesSubplot at 0x7f21e896cdc0>"
            ]
          },
          "metadata": {},
          "execution_count": 85
        },
        {
          "output_type": "display_data",
          "data": {
            "text/plain": [
              "<Figure size 1584x216 with 1 Axes>"
            ],
            "image/png": "[encoded data removed]"
          },
          "metadata": {
            "needs_background": "light"
          }
        }
      ]
    },
    {
      "cell_type": "code",
      "source": [
        "import scipy.stats as stats \n",
        "\n",
        "plt.rcParams[\"figure.figsize\"] = (10, 6)\n",
        "stats.probplot(X['campaign'], dist=\"norm\", plot=plt)\n",
        "plt.show()"
      ],
      "metadata": {
        "id": "RQ1HeVQOEnF-",
        "outputId": "3a4b1067-b4e5-4858-c7a7-3052a6ce5bbb",
        "colab": {
          "base_uri": "https://localhost:8080/",
          "height": 404
        }
      },
      "execution_count": 86,
      "outputs": [
        {
          "output_type": "display_data",
          "data": {
            "text/plain": [
              "<Figure size 720x432 with 1 Axes>"
            ],
            "image/png": "[encoded data removed]"
          },
          "metadata": {
            "needs_background": "light"
          }
        }
      ]
    },
    {
      "cell_type": "code",
      "source": [
        "print(X['balance'].shape)\n",
        "print(X['campaign'].quantile(0.75))"
      ],
      "metadata": {
        "id": "eUdt36ktUfOv",
        "outputId": "7f27f2a1-88bf-4a0c-8bb6-6b3174fc1b74",
        "colab": {
          "base_uri": "https://localhost:8080/"
        }
      },
      "execution_count": 87,
      "outputs": [
        {
          "output_type": "stream",
          "name": "stdout",
          "text": [
            "(11161,)\n",
            "3.0\n"
          ]
        }
      ]
    },
    {
      "cell_type": "markdown",
      "source": [
        "For the columns \"balance\", \"age\" and \"campaign\", we detected outliers, which affect the outcome. \n",
        "\n",
        "For the \"campaign\" column, we decided to increase the upper limit to 30, because the values are manipulated by the high amount of values between 1 and 3"
      ],
      "metadata": {
        "id": "2YKIB2_dRogc"
      }
    },
    {
      "cell_type": "code",
      "source": [
        "# Data preperation - Handling outliers\n",
        "\n",
        "outlier_columns = ['balance', 'age','campaign']\n",
        "\n",
        "for columns in outlier_columns:\n",
        "\n",
        "  Q1=X[columns].quantile(0.25)\n",
        "  Q3=X[columns].quantile(0.75)\n",
        "\n",
        "  IQR=Q3-Q1\n",
        "\n",
        "  outliers_balance_low = (X[columns] < (Q1 - 1.5*IQR))\n",
        "  if columns == 'campaign' :\n",
        "    outliers_balance_up = (X[columns] > (30))\n",
        "  else:\n",
        "    outliers_balance_up = (X[columns] > (Q3 + 1.5*IQR))\n",
        "\n",
        "  # drop outliers from balance and age\n",
        "  X = X[~(outliers_balance_low | outliers_balance_up)]\n",
        "\n",
        "\n",
        "#X=X[~((X<(Q1-1.5*IQR)) | (X>(Q3+1.5*IQR)))]"
      ],
      "metadata": {
        "id": "5NaaeJnb_Te_"
      },
      "execution_count": 88,
      "outputs": []
    },
    {
      "cell_type": "code",
      "source": [
        "X.isnull().sum() "
      ],
      "metadata": {
        "id": "AxRN6Y4XPOZQ",
        "outputId": "f41331d7-48fc-4230-ba83-c8c9e575ef1c",
        "colab": {
          "base_uri": "https://localhost:8080/"
        }
      },
      "execution_count": 89,
      "outputs": [
        {
          "output_type": "execute_result",
          "data": {
            "text/plain": [
              "age          0\n",
              "job          0\n",
              "marital      0\n",
              "education    0\n",
              "default      0\n",
              "balance      0\n",
              "housing      0\n",
              "loan         0\n",
              "contact      0\n",
              "day          0\n",
              "month        0\n",
              "campaign     0\n",
              "pdays        0\n",
              "deposit      0\n",
              "dtype: int64"
            ]
          },
          "metadata": {},
          "execution_count": 89
        }
      ]
    },
    {
      "cell_type": "code",
      "source": [
        "X = X.dropna()"
      ],
      "metadata": {
        "id": "YXz2j8zKOxMQ"
      },
      "execution_count": 90,
      "outputs": []
    },
    {
      "cell_type": "code",
      "source": [
        "X.shape"
      ],
      "metadata": {
        "id": "pe7UkkvHO00E",
        "outputId": "6ccf1d5c-8c69-42b3-9e5c-3977a9f77e3a",
        "colab": {
          "base_uri": "https://localhost:8080/"
        }
      },
      "execution_count": 91,
      "outputs": [
        {
          "output_type": "execute_result",
          "data": {
            "text/plain": [
              "(9924, 14)"
            ]
          },
          "metadata": {},
          "execution_count": 91
        }
      ]
    },
    {
      "cell_type": "code",
      "source": [
        "Y = X['deposit']\n",
        "X_2 = X.drop(['deposit'], axis = 1)\n",
        "\n",
        "#Data preperation - balance class using oversampling \n",
        "\n",
        "oversample = RandomOverSampler(sampling_strategy='minority')\n",
        "X_2, Y = oversample.fit_resample(X_2, Y)\n",
        "\n",
        "print(X.describe())"
      ],
      "metadata": {
        "id": "FqoDBsgPxu2b",
        "outputId": "43d378fd-8800-4997-c65c-e914184fe429",
        "colab": {
          "base_uri": "https://localhost:8080/"
        }
      },
      "execution_count": 92,
      "outputs": [
        {
          "output_type": "stream",
          "name": "stdout",
          "text": [
            "               age          job      marital    education      default  \\\n",
            "count  9924.000000  9924.000000  9924.000000  9924.000000  9924.000000   \n",
            "mean     40.238412     4.450222     1.209291     1.280834     0.016727   \n",
            "std      10.713552     3.273000     0.627264     0.733879     0.128254   \n",
            "min      18.000000     0.000000     0.000000     0.000000     0.000000   \n",
            "25%      32.000000     1.000000     1.000000     1.000000     0.000000   \n",
            "50%      38.000000     4.000000     1.000000     1.000000     0.000000   \n",
            "75%      48.000000     7.000000     2.000000     2.000000     0.000000   \n",
            "max      72.000000    11.000000     2.000000     3.000000     1.000000   \n",
            "\n",
            "          balance      housing         loan      contact          day  \\\n",
            "count  9924.00000  9924.000000  9924.000000  9924.000000  9924.000000   \n",
            "mean    800.91707     0.488412     0.140165     0.493047    15.587162   \n",
            "std     993.42319     0.499891     0.347176     0.827603     8.453867   \n",
            "min   -2049.00000     0.000000     0.000000     0.000000     1.000000   \n",
            "25%      92.00000     0.000000     0.000000     0.000000     8.000000   \n",
            "50%     434.00000     0.000000     0.000000     0.000000    15.000000   \n",
            "75%    1213.25000     1.000000     0.000000     1.000000    22.000000   \n",
            "max    4087.00000     1.000000     1.000000     2.000000    31.000000   \n",
            "\n",
            "             month     campaign        pdays      deposit  \n",
            "count  9924.000000  9924.000000  9924.000000  9924.000000  \n",
            "mean      5.410621     2.502821     0.248388     0.458484  \n",
            "std       3.156691     2.563060     0.432100     0.498299  \n",
            "min       0.000000     1.000000     0.000000     0.000000  \n",
            "25%       3.000000     1.000000     0.000000     0.000000  \n",
            "50%       6.000000     2.000000     0.000000     0.000000  \n",
            "75%       8.000000     3.000000     0.000000     1.000000  \n",
            "max      11.000000    30.000000     1.000000     1.000000  \n"
          ]
        }
      ]
    },
    {
      "cell_type": "code",
      "source": [
        "#Data preperation - 80/20 test split\n",
        "\n",
        "X_train, X_test, y_train, y_test = train_test_split(X_2, Y, train_size = 0.8, random_state=100)"
      ],
      "metadata": {
        "id": "IFRndJXGOHNQ"
      },
      "execution_count": 93,
      "outputs": []
    },
    {
      "cell_type": "code",
      "source": [
        "#Data preperation - scaling\n",
        "\n",
        "scaler2 = MinMaxScaler()\n",
        "\n",
        "X_train_scaled = scaler2.fit_transform(X_train)\n",
        "X_test_scaled = scaler2.transform(X_test)\n",
        "\n",
        "print(X.shape)\n",
        "print(X_train.shape)\n",
        "print(X_train_scaled.shape)\n",
        "print(y_train.shape)"
      ],
      "metadata": {
        "colab": {
          "base_uri": "https://localhost:8080/"
        },
        "id": "KzDgALS_7nW1",
        "outputId": "8de63ef2-baaa-4d96-d764-4281713f6d05"
      },
      "execution_count": 94,
      "outputs": [
        {
          "output_type": "stream",
          "name": "stdout",
          "text": [
            "(9924, 14)\n",
            "(8598, 13)\n",
            "(8598, 13)\n",
            "(8598,)\n"
          ]
        }
      ]
    },
    {
      "cell_type": "code",
      "source": [
        "#Training and model evaluation - MLP Classifier\n",
        "\n",
        "#The model should have 4 hidden layers with sizes hidden_layer_size=(10, 1) (parameter hidden_layer_sizes)\n",
        "#Set the batch_size to 64\n",
        "\n",
        "classifier = MLPClassifier(hidden_layer_sizes=(10,10,10,10),batch_size=(64))\n",
        "classifier.fit(X_train_scaled, y_train)"
      ],
      "metadata": {
        "colab": {
          "base_uri": "https://localhost:8080/"
        },
        "id": "tO52jRi9772E",
        "outputId": "61cd8952-adef-4a30-c310-3c59a64e538c"
      },
      "execution_count": 100,
      "outputs": [
        {
          "output_type": "stream",
          "name": "stderr",
          "text": [
            "/usr/local/lib/python3.8/dist-packages/sklearn/neural_network/_multilayer_perceptron.py:692: ConvergenceWarning: Stochastic Optimizer: Maximum iterations (200) reached and the optimization hasn't converged yet.\n",
            "  warnings.warn(\n"
          ]
        },
        {
          "output_type": "execute_result",
          "data": {
            "text/plain": [
              "MLPClassifier(batch_size=64, hidden_layer_sizes=(10, 10, 10, 10))"
            ]
          },
          "metadata": {},
          "execution_count": 100
        }
      ]
    },
    {
      "cell_type": "code",
      "source": [
        "#Training and model evaluation - predictions and score\n",
        "\n",
        "predictions = classifier.predict(X_test_scaled)\n",
        "print(classifier.score(X_test_scaled, y_test))\n",
        "print(classifier.predict(X_test[0:10]))"
      ],
      "metadata": {
        "colab": {
          "base_uri": "https://localhost:8080/"
        },
        "id": "PiM59JI47sP1",
        "outputId": "96b5e052-433a-403a-d6dc-ac11f9bac62e"
      },
      "execution_count": 101,
      "outputs": [
        {
          "output_type": "stream",
          "name": "stdout",
          "text": [
            "0.66\n",
            "[0 0 0 0 0 0 0 0 0 0]\n"
          ]
        },
        {
          "output_type": "stream",
          "name": "stderr",
          "text": [
            "/usr/local/lib/python3.8/dist-packages/sklearn/base.py:443: UserWarning: X has feature names, but MLPClassifier was fitted without feature names\n",
            "  warnings.warn(\n"
          ]
        }
      ]
    },
    {
      "cell_type": "code",
      "source": [
        "#Training and model evaluation - metrics\n",
        "print(classification_report(y_test,predictions))"
      ],
      "metadata": {
        "colab": {
          "base_uri": "https://localhost:8080/"
        },
        "id": "Vm5cLc_K4teM",
        "outputId": "108a5ab0-7ab8-4f2a-847c-f008b7fcad4b"
      },
      "execution_count": 97,
      "outputs": [
        {
          "output_type": "stream",
          "name": "stdout",
          "text": [
            "              precision    recall  f1-score   support\n",
            "\n",
            "           0       0.66      0.72      0.69      1072\n",
            "           1       0.69      0.62      0.66      1078\n",
            "\n",
            "    accuracy                           0.67      2150\n",
            "   macro avg       0.67      0.67      0.67      2150\n",
            "weighted avg       0.67      0.67      0.67      2150\n",
            "\n"
          ]
        }
      ]
    },
    {
      "cell_type": "code",
      "source": [
        "#Training and model evaluation - confusion matrix\n",
        "\n",
        "from sklearn.metrics import plot_confusion_matrix\n",
        "plt.rcParams[\"figure.figsize\"] = (8, 10)\n",
        "fig=plot_confusion_matrix(classifier, X_test_scaled, y_test,display_labels=[\"0\",'1'],cmap=plt.cm.Blues,values_format = '.2f')\n",
        "fig.figure_.suptitle(\"Confusion Matrix \")\n",
        "plt.show()"
      ],
      "metadata": {
        "colab": {
          "base_uri": "https://localhost:8080/",
          "height": 702
        },
        "id": "WnKcse8S4yiY",
        "outputId": "9d548585-c39f-470b-d110-13cd4fa15800"
      },
      "execution_count": 102,
      "outputs": [
        {
          "output_type": "stream",
          "name": "stderr",
          "text": [
            "/usr/local/lib/python3.8/dist-packages/sklearn/utils/deprecation.py:87: FutureWarning: Function plot_confusion_matrix is deprecated; Function `plot_confusion_matrix` is deprecated in 1.0 and will be removed in 1.2. Use one of the class methods: ConfusionMatrixDisplay.from_predictions or ConfusionMatrixDisplay.from_estimator.\n",
            "  warnings.warn(msg, category=FutureWarning)\n"
          ]
        },
        {
          "output_type": "display_data",
          "data": {
            "text/plain": [
              "<Figure size 576x720 with 2 Axes>"
            ],
            "image/png": "[encoded data removed]"
          },
          "metadata": {
            "needs_background": "light"
          }
        }
      ]
    },
    {
      "cell_type": "markdown",
      "source": [
        "**Improve Accuracy**\n",
        "\n",
        "- add more data to train your model\n",
        "- tune your hyperparameters (number of hidden layers, epochs, etc...)\n",
        "- drop columns with very low correlation like age, job, day or month"
      ],
      "metadata": {
        "id": "7L3bzVVQzi5u"
      }
    },
    {
      "cell_type": "code",
      "source": [
        "#check overfitting or underfitting - comparision of predictions of train data and test data \n",
        "print(classifier.score(X_test_scaled, y_test))\n",
        "print(classifier.score(X_train_scaled, y_train))\n"
      ],
      "metadata": {
        "id": "-0ftvtBKSfHo",
        "outputId": "3599dc0d-2d2a-40a6-fd35-5d60009ed477",
        "colab": {
          "base_uri": "https://localhost:8080/"
        }
      },
      "execution_count": 99,
      "outputs": [
        {
          "output_type": "stream",
          "name": "stdout",
          "text": [
            "0.6711627906976744\n",
            "0.7128401953942778\n"
          ]
        }
      ]
    },
    {
      "cell_type": "markdown",
      "source": [
        "The model is overfitted by 3% --> it means the model performs better with the training data than the new test data\n",
        "\n",
        "We can reduce Overfitting by\n",
        "- reduce complexity\n",
        "- tune parameters\n",
        "- change model"
      ],
      "metadata": {
        "id": "wIgGU8xITvyV"
      }
    },
    {
      "cell_type": "markdown",
      "metadata": {
        "id": "GBJCQGjRlt1X"
      },
      "source": [
        "\n",
        "#### Further tips for working on the assignment:\n",
        "\n",
        "When analyzing the model's performance, please think about what the baseline performance of the task would be and if your model performs better or not. It is quite unlikely the model will get a perfect score with the given parametrization. You can try to improve the performance by varying several hyperparameters of the model (e.g. number of hidden layers and number of neurons in a hidden layer, batch_size, training epochs, etc.). \n",
        "\n",
        "Please be aware that too many hidden layers and neurons and a large number of epochs will cause the model to train longer. If the model is too complex you might encounter time-outs in Colab.\n",
        "\n",
        "If the number of epochs is too low, sklearn will show a warning that the model has not yet converged."
      ]
    },
    {
      "cell_type": "markdown",
      "source": [
        "###Other model - Logistic Regression"
      ],
      "metadata": {
        "id": "mzuIeT7-Uw1a"
      }
    },
    {
      "cell_type": "code",
      "source": [
        "#Training and model evaluation - training of another model \n",
        "\n",
        "from sklearn.linear_model import LogisticRegression\n",
        "\n",
        "logreg = LogisticRegression()\n",
        "logreg.fit(X_train_scaled, y_train)"
      ],
      "metadata": {
        "id": "a-aSvokbcqxR",
        "outputId": "fd70c82b-fe79-40e1-cdce-7faae672558e",
        "colab": {
          "base_uri": "https://localhost:8080/"
        }
      },
      "execution_count": 52,
      "outputs": [
        {
          "output_type": "execute_result",
          "data": {
            "text/plain": [
              "LogisticRegression()"
            ]
          },
          "metadata": {},
          "execution_count": 52
        }
      ]
    },
    {
      "cell_type": "code",
      "source": [
        "predictions2 = logreg.predict(X_test_scaled)\n",
        "print(logreg.score(X_test_scaled, y_test))\n",
        "print(logreg.predict(X_test[0:10]))"
      ],
      "metadata": {
        "id": "ZuxmGeVFcxR7",
        "outputId": "a14ee2e0-24e2-4904-d165-0cabd1e5f834",
        "colab": {
          "base_uri": "https://localhost:8080/"
        }
      },
      "execution_count": 53,
      "outputs": [
        {
          "output_type": "stream",
          "name": "stdout",
          "text": [
            "0.648635477582846\n",
            "[0 1 1 0 0 1 1 1 1 1]\n"
          ]
        },
        {
          "output_type": "stream",
          "name": "stderr",
          "text": [
            "/usr/local/lib/python3.8/dist-packages/sklearn/base.py:443: UserWarning: X has feature names, but LogisticRegression was fitted without feature names\n",
            "  warnings.warn(\n"
          ]
        }
      ]
    },
    {
      "cell_type": "code",
      "source": [
        "print(classification_report(y_test,predictions))"
      ],
      "metadata": {
        "id": "zDYb0rIIvQjo",
        "outputId": "a0fee423-e211-4b02-cba3-6995543e98b5",
        "colab": {
          "base_uri": "https://localhost:8080/"
        }
      },
      "execution_count": 54,
      "outputs": [
        {
          "output_type": "stream",
          "name": "stdout",
          "text": [
            "              precision    recall  f1-score   support\n",
            "\n",
            "           0       0.65      0.75      0.69      1012\n",
            "           1       0.71      0.60      0.65      1040\n",
            "\n",
            "    accuracy                           0.67      2052\n",
            "   macro avg       0.68      0.67      0.67      2052\n",
            "weighted avg       0.68      0.67      0.67      2052\n",
            "\n"
          ]
        }
      ]
    },
    {
      "cell_type": "code",
      "source": [
        "from sklearn.metrics import plot_confusion_matrix\n",
        "plt.rcParams[\"figure.figsize\"] = (8, 10)\n",
        "fig=plot_confusion_matrix(logreg, X_test_scaled, y_test,display_labels=[\"0\",'1'],cmap=plt.cm.Blues,values_format = '.2f')\n",
        "fig.figure_.suptitle(\"Confusion Matrix \")\n",
        "plt.show()"
      ],
      "metadata": {
        "id": "gClWJebBc5j_",
        "outputId": "a085b21b-f74e-4db9-bb14-f4e682e211e7",
        "colab": {
          "base_uri": "https://localhost:8080/",
          "height": 707
        }
      },
      "execution_count": 49,
      "outputs": [
        {
          "output_type": "stream",
          "name": "stderr",
          "text": [
            "/usr/local/lib/python3.8/dist-packages/sklearn/utils/deprecation.py:87: FutureWarning: Function plot_confusion_matrix is deprecated; Function `plot_confusion_matrix` is deprecated in 1.0 and will be removed in 1.2. Use one of the class methods: ConfusionMatrixDisplay.from_predictions or ConfusionMatrixDisplay.from_estimator.\n",
            "  warnings.warn(msg, category=FutureWarning)\n"
          ]
        },
        {
          "output_type": "display_data",
          "data": {
            "text/plain": [
              "<Figure size 576x720 with 2 Axes>"
            ],
            "image/png": "[encoded data removed]"
          },
          "metadata": {
            "needs_background": "light"
          }
        }
      ]
    },
    {
      "cell_type": "markdown",
      "source": [
        "**Comparision of the two models:**\n",
        "\n",
        "- More or less the same accuracy with the given parameterization\n",
        "- recall is a bit higher --> may be fortunate for the case, because a marketing campaign is about quantity (how many people you reach)"
      ],
      "metadata": {
        "id": "bjWnPHhARqC7"
      }
    }
  ]
}